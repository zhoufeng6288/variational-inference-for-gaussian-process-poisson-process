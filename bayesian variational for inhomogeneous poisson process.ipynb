{
 "cells": [
  {
   "cell_type": "code",
   "execution_count": 1,
   "metadata": {},
   "outputs": [],
   "source": [
    "import numpy as np\n",
    "import matplotlib.pyplot as plt\n",
    "from scipy import optimize\n",
    "from scipy.stats import expon\n",
    "from scipy.stats import uniform\n",
    "from scipy.stats import multivariate_normal\n",
    "from scipy.stats import norm\n",
    "from scipy.special import erf\n",
    "from scipy.special import hyp1f1"
   ]
  },
  {
   "cell_type": "code",
   "execution_count": 2,
   "metadata": {},
   "outputs": [],
   "source": [
    "def GP_regression(xi,yi,theta0,theta1,noise_var,rang,num_points):\n",
    "    N=len(xi)\n",
    "    cov_K=np.zeros((N,N))\n",
    "    for i in range(N):\n",
    "        for j in range(i,N):\n",
    "            cov_K[i][j]=expo_quad_kernel(theta0,theta1,xi[i],xi[j])\n",
    "            cov_K[j][i]=cov_K[i][j]\n",
    "    min_eig=np.min(np.real(np.linalg.eigvals(cov_K))) # numerical float truncation error refine\n",
    "    while(min_eig<0):\n",
    "        cov_K += -10*min_eig*np.eye(cov_K.shape[0])\n",
    "        min_eig=np.min(np.real(np.linalg.eigvals(cov_K)))\n",
    "    \n",
    "    cov_K_noise=cov_K+np.eye(N)*noise_var\n",
    "    \n",
    "    x1=np.linspace(0,rang,num_points+1)      # prediction points, integer is to make it easy\n",
    "    M=len(x1)-1\n",
    "    mean=np.zeros((1,M))[0]\n",
    "    posterior_cov=np.zeros((M,M))\n",
    "    k_matrix=np.zeros((M,N))\n",
    "    k_matrix_pre=np.zeros((M,M))\n",
    "    for i in range(M):\n",
    "        for j in range(N):\n",
    "            k_matrix[i][j]=expo_quad_kernel(theta0,theta1,x1[i],xi[j])\n",
    "    k_C=np.dot(k_matrix,np.linalg.inv(cov_K_noise))\n",
    "    mean=np.dot(k_C,yi)\n",
    "    for i in range(M):\n",
    "        for j in range(i,M):\n",
    "            k_matrix_pre[i][j]=expo_quad_kernel(theta0,theta1,x1[i],x1[j])\n",
    "            k_matrix_pre[j][i]=k_matrix_pre[i][j]\n",
    "    posterior_cov=k_matrix_pre-np.dot(k_C,k_matrix.T)+np.eye(M)*noise_var\n",
    "    min_eig=np.min(np.real(np.linalg.eigvals(posterior_cov))) # numerical float truncation error refine\n",
    "    while(min_eig<0):\n",
    "        posterior_cov += -10*min_eig*np.eye(posterior_cov.shape[0])\n",
    "        min_eig=np.min(np.real(np.linalg.eigvals(posterior_cov)))\n",
    "    return x1[:num_points],mean, posterior_cov"
   ]
  },
  {
   "cell_type": "code",
   "execution_count": 3,
   "metadata": {},
   "outputs": [],
   "source": [
    "def expo_quad_kernel(theta0,theta1,xn,xm):\n",
    "    return theta0*np.exp(-theta1/2*np.sum((xn - xm)**2))"
   ]
  },
  {
   "cell_type": "code",
   "execution_count": 4,
   "metadata": {},
   "outputs": [],
   "source": [
    "xi=np.linspace(0+10/2,100-10/2,10)   # 10 inducing points"
   ]
  },
  {
   "cell_type": "code",
   "execution_count": 5,
   "metadata": {},
   "outputs": [
    {
     "data": {
      "text/plain": [
       "array([ 5., 15., 25., 35., 45., 55., 65., 75., 85., 95.])"
      ]
     },
     "execution_count": 5,
     "metadata": {},
     "output_type": "execute_result"
    }
   ],
   "source": [
    "xi"
   ]
  },
  {
   "cell_type": "code",
   "execution_count": 6,
   "metadata": {},
   "outputs": [],
   "source": [
    "T=100"
   ]
  },
  {
   "cell_type": "code",
   "execution_count": 7,
   "metadata": {},
   "outputs": [],
   "source": [
    "theta0=1"
   ]
  },
  {
   "cell_type": "code",
   "execution_count": 8,
   "metadata": {},
   "outputs": [],
   "source": [
    "theta1=0.01"
   ]
  },
  {
   "cell_type": "code",
   "execution_count": 9,
   "metadata": {},
   "outputs": [],
   "source": [
    "def u_generate(theta0,theta1,xi): # xi is inducing points, N(0,Sigma)\n",
    "    N=len(xi)\n",
    "    cov=np.zeros((N,N))\n",
    "    for i in range(N):\n",
    "        for j in range(i,N):\n",
    "            cov[i][j]=expo_quad_kernel(theta0,theta1,xi[i],xi[j])\n",
    "            cov[j][i]=cov[i][j]\n",
    "    return multivariate_normal([0]*N,cov).rvs(),np.array([0]*N),cov"
   ]
  },
  {
   "cell_type": "code",
   "execution_count": 10,
   "metadata": {},
   "outputs": [],
   "source": [
    "u,mean_p_u,cov_p_u=u_generate(theta0,theta1,xi)"
   ]
  },
  {
   "cell_type": "code",
   "execution_count": 11,
   "metadata": {},
   "outputs": [
    {
     "data": {
      "text/plain": [
       "array([-0.41965642, -0.4632516 ,  1.17264258,  2.00207602,  0.9980126 ,\n",
       "        0.01765908,  0.7421457 ,  0.79063927,  0.27172665, -1.29155988])"
      ]
     },
     "execution_count": 11,
     "metadata": {},
     "output_type": "execute_result"
    }
   ],
   "source": [
    "u"
   ]
  },
  {
   "cell_type": "code",
   "execution_count": 12,
   "metadata": {},
   "outputs": [
    {
     "data": {
      "text/plain": [
       "array([0, 0, 0, 0, 0, 0, 0, 0, 0, 0])"
      ]
     },
     "execution_count": 12,
     "metadata": {},
     "output_type": "execute_result"
    }
   ],
   "source": [
    "mean_p_u"
   ]
  },
  {
   "cell_type": "code",
   "execution_count": 13,
   "metadata": {},
   "outputs": [],
   "source": [
    "f=GP_regression(xi,u,theta0,theta1,0.0001,T,1000) # f is 1000-dimension vector on [0,T]"
   ]
  },
  {
   "cell_type": "code",
   "execution_count": 14,
   "metadata": {},
   "outputs": [],
   "source": [
    "f_1=multivariate_normal(f[1],f[2]).rvs() # f sample"
   ]
  },
  {
   "cell_type": "code",
   "execution_count": 15,
   "metadata": {},
   "outputs": [
    {
     "data": {
      "image/png": "[encoded data removed]",
      "text/plain": [
       "<Figure size 576x360 with 1 Axes>"
      ]
     },
     "metadata": {
      "needs_background": "light"
     },
     "output_type": "display_data"
    }
   ],
   "source": [
    "plt.figure(1,figsize=(8,5))\n",
    "axs=plt.subplot(111)\n",
    "axs.plot(xi,u,'ro')\n",
    "axs.plot(f[0],f[1])\n",
    "axs.fill_between(f[0],f[1]-np.sqrt(np.diagonal(f[2])),f[1]+np.sqrt(np.diagonal(f[2])),facecolor=(0.53,0.8,0.92))\n",
    "axs.plot(f[0],f_1)\n",
    "plt.show()"
   ]
  },
  {
   "cell_type": "code",
   "execution_count": 16,
   "metadata": {},
   "outputs": [],
   "source": [
    "lamda=f_1**2"
   ]
  },
  {
   "cell_type": "code",
   "execution_count": 17,
   "metadata": {},
   "outputs": [
    {
     "data": {
      "image/png": "[encoded data removed]",
      "text/plain": [
       "<Figure size 576x360 with 1 Axes>"
      ]
     },
     "metadata": {
      "needs_background": "light"
     },
     "output_type": "display_data"
    }
   ],
   "source": [
    "plt.figure(1,figsize=(8,5))\n",
    "axs=plt.subplot(111)\n",
    "axs.plot(f[0],lamda)\n",
    "plt.show()"
   ]
  },
  {
   "cell_type": "code",
   "execution_count": 18,
   "metadata": {},
   "outputs": [],
   "source": [
    "def inhomo_simulation(measure,delta_t,measure_sup,T):\n",
    "    t=0\n",
    "    points_homo=[]\n",
    "    points_inhomo=[]\n",
    "    while(t<T):\n",
    "        points_homo.append(t)\n",
    "        r=expon.rvs(scale=1/measure_sup) #scale=1/lamda\n",
    "        t+=r\n",
    "        if t>=T: break\n",
    "        D=uniform.rvs(loc=0,scale=1)\n",
    "        if D*measure_sup<=measure[int(t/delta_t)]:\n",
    "            points_inhomo.append(t)\n",
    "    if points_inhomo[-1]>T:\n",
    "        del points_inhomo[-1]\n",
    "    del points_homo[0]\n",
    "    return points_inhomo"
   ]
  },
  {
   "cell_type": "markdown",
   "metadata": {},
   "source": [
    "## simulation for gaussian process poisson process"
   ]
  },
  {
   "cell_type": "code",
   "execution_count": 19,
   "metadata": {},
   "outputs": [],
   "source": [
    "points_inhomo=inhomo_simulation(lamda,0.1,max(lamda),T)"
   ]
  },
  {
   "cell_type": "code",
   "execution_count": 20,
   "metadata": {},
   "outputs": [
    {
     "data": {
      "text/plain": [
       "83"
      ]
     },
     "execution_count": 20,
     "metadata": {},
     "output_type": "execute_result"
    }
   ],
   "source": [
    "len(points_inhomo)"
   ]
  },
  {
   "cell_type": "code",
   "execution_count": 21,
   "metadata": {},
   "outputs": [
    {
     "data": {
      "image/png": "[encoded data removed]",
      "text/plain": [
       "<Figure size 432x288 with 1 Axes>"
      ]
     },
     "metadata": {
      "needs_background": "light"
     },
     "output_type": "display_data"
    }
   ],
   "source": [
    "plt.figure(1)                # the first figure\n",
    "plt.subplot(111)             # the first subplot in the first figure\n",
    "plt.plot([0,T],[0,0],'r-',lw=1,alpha=0.6)\n",
    "plt.plot(points_inhomo,np.zeros(len(points_inhomo)),linestyle='None', marker='|', color='g', markersize=10)\n",
    "plt.plot(f[0],lamda)\n",
    "plt.show()"
   ]
  },
  {
   "cell_type": "code",
   "execution_count": 742,
   "metadata": {},
   "outputs": [
    {
     "data": {
      "image/png": "[encoded data removed]",
      "text/plain": [
       "<matplotlib.figure.Figure at 0x25188dcc1d0>"
      ]
     },
     "metadata": {},
     "output_type": "display_data"
    }
   ],
   "source": [
    "plt.figure(1)                # the first figure\n",
    "plt.subplot(111)             # the first subplot in the first figure\n",
    "plt.plot([0,T],[0,0],'r-',lw=1,alpha=0.6)\n",
    "plt.plot(points_inhomo,np.zeros(len(points_inhomo)),linestyle='None', marker='|', color='g', markersize=10)\n",
    "plt.plot(f[0],lamda)\n",
    "plt.plot(f[0],lamda_predict)\n",
    "plt.show()"
   ]
  },
  {
   "cell_type": "markdown",
   "metadata": {},
   "source": [
    "## varitional inference"
   ]
  },
  {
   "cell_type": "code",
   "execution_count": 632,
   "metadata": {
    "collapsed": true
   },
   "outputs": [],
   "source": [
    "def KL_gaussian(mean_q,cov_q,mean_p,cov_p): # verified\n",
    "    assert len(mean_p)==len(mean_q)\n",
    "    cov_p_inv=np.linalg.inv(cov_p)\n",
    "    return (np.trace(np.matmul(cov_p_inv,cov_q))+np.log(np.linalg.det(cov_p))-np.log(np.linalg.det(cov_q))-len(mean_p)\\\n",
    "    +np.matmul(np.matmul((mean_p-mean_q),cov_p_inv),(mean_p-mean_q).T))/2"
   ]
  },
  {
   "cell_type": "code",
   "execution_count": 633,
   "metadata": {
    "collapsed": true
   },
   "outputs": [],
   "source": [
    "def psi(theta0,theta1,xn,xm,T):\n",
    "    x_mean=(xn+xm)/2\n",
    "    return (theta0**2)*(-np.sqrt(np.pi/theta1)/2)*np.exp((-theta1*(xn-xm)**2)/4)*(erf((x_mean-T)*np.sqrt(theta1))\\\n",
    "                                                                                  -erf(x_mean*np.sqrt(theta1)))"
   ]
  },
  {
   "cell_type": "code",
   "execution_count": 634,
   "metadata": {
    "collapsed": true
   },
   "outputs": [],
   "source": [
    "def G_fun(z):\n",
    "    return (hyp1f1(0.001,0.5,z)-hyp1f1(0,0.5,z))/0.001"
   ]
  },
  {
   "cell_type": "code",
   "execution_count": 635,
   "metadata": {
    "collapsed": true
   },
   "outputs": [],
   "source": [
    "xxxx=np.linspace(-5000,0,500000)\n",
    "G_value=[]\n",
    "for i in range(len(xxxx)):\n",
    "    G_value.append(G_fun(xxxx[i]))"
   ]
  },
  {
   "cell_type": "code",
   "execution_count": 636,
   "metadata": {},
   "outputs": [
    {
     "data": {
      "image/png": "[encoded data removed]",
      "text/plain": [
       "<matplotlib.figure.Figure at 0x25188da31d0>"
      ]
     },
     "metadata": {},
     "output_type": "display_data"
    }
   ],
   "source": [
    "plt.figure(1)                # the first figure\n",
    "plt.subplot(111)             # the first subplot in the first figure\n",
    "plt.plot(xxxx,G_value)\n",
    "plt.show()"
   ]
  },
  {
   "cell_type": "code",
   "execution_count": 681,
   "metadata": {
    "collapsed": true
   },
   "outputs": [],
   "source": [
    "def G(z):\n",
    "    assert z<=0, print(z)\n",
    "    assert z>=-5000, print(z)\n",
    "    index=int((5000+z)/0.01)\n",
    "    if index==500000:\n",
    "        return 0\n",
    "    else:\n",
    "        return G_value[index]"
   ]
  },
  {
   "cell_type": "code",
   "execution_count": 682,
   "metadata": {
    "collapsed": true
   },
   "outputs": [],
   "source": [
    "def ELBO(theta0,theta1,xi,mean_p_u,cov_p_u,mean_q_u,cov_q_u,T, points_inhomo): # xi is inducing points\n",
    "    assert len(mean_p_u)==len(mean_q_u)==len(xi)\n",
    "    N=len(xi) # N is number of inducing points\n",
    "#     M=len(x_predict)\n",
    "    Psi=np.zeros((N,N))\n",
    "    for i in range(N):\n",
    "        for j in range(i,N):\n",
    "            Psi[i][j]=psi(theta0,theta1,xi[i],xi[j],T)\n",
    "            Psi[j][i]=Psi[i][j]\n",
    "    \n",
    "    fourth_term=-KL_gaussian(mean_q_u,cov_q_u,mean_p_u,cov_p_u)\n",
    "    \n",
    "    cov_p_u_inv=np.linalg.inv(cov_p_u)\n",
    "    \n",
    "    first_term=-np.matmul(np.matmul(np.matmul(np.matmul(mean_q_u,cov_p_u_inv),Psi),cov_p_u_inv),mean_q_u.T)\n",
    "    \n",
    "    second_term=-(theta0*T-np.trace(np.matmul(cov_p_u_inv,Psi))+np.trace(np.matmul(np.matmul(np.matmul(cov_p_u_inv,cov_q_u),cov_p_u_inv),Psi)))\n",
    "    \n",
    "    \n",
    "#     K_xz=np.zeros((M,N))\n",
    "#     for i in range(M):\n",
    "#         for j in range(N):\n",
    "#             K_xz[i][j]=expo_quad_kernel(theta0,theta1,x_predict[i],xi[j])\n",
    "#     K_xx=np.zeros((M,M))\n",
    "#     for i in range(M):\n",
    "#         for j in range(i,M):\n",
    "#             K_xx[i][j]=expo_quad_kernel(theta0,theta1,x_predict[i],x_predict[j])\n",
    "#             K_xx[j][i]=K_xx[i][j]\n",
    "#     mean_predict=(K_xz.dot(cov_p_u_inv)).dot(mean_q_u)\n",
    "#     cov_predict=K_xx-(K_xz.dot(cov_p_u_inv)).dot(K_xz.T)+(((K_xz.dot(cov_p_u_inv)).dot(cov_q_u)).dot(cov_p_u_inv)).dot(K_xz.T)\n",
    "    \n",
    "    third_term=0\n",
    "    for i in range(len(points_inhomo)):\n",
    "        k_vec=np.array([])\n",
    "        for j in range(N):\n",
    "            k_vec=np.append(k_vec,expo_quad_kernel(theta0,theta1,points_inhomo[i],xi[j]))\n",
    "        mean=np.matmul(np.matmul(k_vec,cov_p_u_inv),mean_q_u)\n",
    "        var=theta0-np.matmul(np.matmul(k_vec,cov_p_u_inv),k_vec.T)+np.matmul(np.matmul(np.matmul(np.matmul(k_vec,cov_p_u_inv),cov_q_u),cov_p_u_inv),k_vec.T)\n",
    "        assert var>0, print(var)\n",
    "        third_term+=-G(-(mean**2)/2/var)+np.log(var/2)-0.57721566\n",
    "#     third_ttt=0\n",
    "#     for i in range(len(points_inhomo)):\n",
    "#         k_xz=np.array([expo_quad_kernel(theta0,theta1,points_inhomo[i],xi[j]) for j in range(N)])\n",
    "#         mean=(k_xz.dot(cov_p_u_inv)).dot(mean_q_u)\n",
    "#         var=theta0-(k_xz.dot(cov_p_u_inv)).dot(k_xz.T)+(((k_xz.dot(cov_p_u_inv)).dot(cov_q_u)).dot(cov_p_u_inv)).dot(k_xz.T)\n",
    "#         mean_list2.append(mean)\n",
    "#         var_list2.append(var)\n",
    "#         fn=norm(mean,np.sqrt(var)).rvs(size=2000)\n",
    "#         third_ttt+=sum(np.log(fn**2))/2000\n",
    "    return first_term+second_term+third_term+fourth_term"
   ]
  },
  {
   "cell_type": "code",
   "execution_count": 683,
   "metadata": {},
   "outputs": [
    {
     "data": {
      "text/plain": [
       "-332.43703643649724"
      ]
     },
     "execution_count": 683,
     "metadata": {},
     "output_type": "execute_result"
    }
   ],
   "source": [
    "ELBO(theta0,theta1,xi,mean_p_u,cov_p_u,np.ones(10),np.eye(10),T,points_inhomo)"
   ]
  },
  {
   "cell_type": "code",
   "execution_count": 684,
   "metadata": {
    "scrolled": true
   },
   "outputs": [
    {
     "data": {
      "text/plain": [
       "-476.16243883739008"
      ]
     },
     "execution_count": 684,
     "metadata": {},
     "output_type": "execute_result"
    }
   ],
   "source": [
    "ELBO(theta0,theta1,xi,mean_p_u,cov_p_u,np.zeros(10),np.eye(10),T,points_inhomo)"
   ]
  },
  {
   "cell_type": "code",
   "execution_count": 714,
   "metadata": {
    "collapsed": true
   },
   "outputs": [],
   "source": [
    "def loss(parameter_list,theta0,theta1,xi,mean_p_u,cov_p_u,T,points_inhomo):\n",
    "    N=len(xi)\n",
    "    mean_q_u=np.array(parameter_list[:N])\n",
    "#     assert len(parameter_list)==2*N  # diagonal cov_q\n",
    "#     cov_q_u=np.diag(parameter_list[N:])\n",
    "    assert len(parameter_list)==N*(N+3)/2  # lower triangular cov_q\n",
    "    L = np.zeros((N, N))\n",
    "    L[np.tril_indices(N, 0)] = parameter_list[N:]\n",
    "    cov_q_u=L.dot(L.T)\n",
    "    return -ELBO(theta0,theta1,xi,mean_p_u,cov_p_u,mean_q_u,cov_q_u,T,points_inhomo)"
   ]
  },
  {
   "cell_type": "code",
   "execution_count": 733,
   "metadata": {
    "scrolled": true
   },
   "outputs": [
    {
     "data": {
      "text/plain": [
       "434.20013808912194"
      ]
     },
     "execution_count": 733,
     "metadata": {},
     "output_type": "execute_result"
    }
   ],
   "source": [
    "loss([1]*65,theta0,theta1,xi,mean_p_u,cov_p_u,T,points_inhomo)"
   ]
  },
  {
   "cell_type": "code",
   "execution_count": 734,
   "metadata": {},
   "outputs": [
    {
     "name": "stdout",
     "output_type": "stream",
     "text": [
      "Optimization terminated successfully.    (Exit mode 0)\n",
      "            Current function value: 248.3293276672723\n",
      "            Iterations: 76\n",
      "            Function evaluations: 5144\n",
      "            Gradient evaluations: 76\n"
     ]
    }
   ],
   "source": [
    "init=np.random.uniform(0,2,65)\n",
    "res=optimize.minimize(loss, init, args=(theta0,theta1,xi,mean_p_u,cov_p_u,T,points_inhomo), method='SLSQP', tol=1e-6, \\\n",
    "        bounds=[(0,2)]*10+[(0.01,10)]*55, options={'disp': True, 'maxiter':500 })"
   ]
  },
  {
   "cell_type": "code",
   "execution_count": 735,
   "metadata": {
    "scrolled": true
   },
   "outputs": [
    {
     "data": {
      "text/plain": [
       "array([  3.34809704e-06,   1.06926898e-16,   9.08293513e-06,\n",
       "         1.41491632e-05,   5.08219815e-06,   0.00000000e+00,\n",
       "         0.00000000e+00,   0.00000000e+00,   0.00000000e+00,\n",
       "         7.38612730e-19,   2.52257952e-01,   4.13544289e-01,\n",
       "         7.84774234e-01,   5.31151702e-02,   1.52811606e-01,\n",
       "         3.76843515e-01,   1.00000000e-02,   1.00000000e-02,\n",
       "         1.32816197e+00,   1.20474728e+00,   1.53984054e-01,\n",
       "         4.36824064e-01,   1.09156315e+00,   1.37336626e+00,\n",
       "         9.65901706e-01,   7.74555457e-02,   2.27838094e-01,\n",
       "         3.57551730e-01,   5.11134121e-01,   6.96350452e-01,\n",
       "         4.53797428e-01,   1.00000000e-02,   1.00000000e-02,\n",
       "         1.00000000e-02,   1.00000000e-02,   1.00000000e-02,\n",
       "         5.42712365e-01,   1.15583911e+00,   3.05122181e-02,\n",
       "         5.40643428e-02,   8.87433378e-02,   1.17879598e-01,\n",
       "         1.63144522e-01,   4.34158568e-01,   1.93665824e+00,\n",
       "         1.03439771e+00,   2.26597950e-02,   3.92238057e-02,\n",
       "         6.33313407e-02,   8.32477234e-02,   1.14306460e-01,\n",
       "         2.42615280e-01,   1.18727997e+00,   1.03528561e+00,\n",
       "         1.32079177e+00,   1.00000000e-02,   1.00000000e-02,\n",
       "         1.00000000e-02,   1.00000000e-02,   1.00000000e-02,\n",
       "         1.01527317e-01,   5.17064921e-01,   5.42680903e-01,\n",
       "         2.38372006e+00,   8.85972101e-01])"
      ]
     },
     "execution_count": 735,
     "metadata": {},
     "output_type": "execute_result"
    }
   ],
   "source": [
    "res.x"
   ]
  },
  {
   "cell_type": "code",
   "execution_count": 737,
   "metadata": {
    "collapsed": true
   },
   "outputs": [],
   "source": [
    "mean_q_u_post=res.x[:10]"
   ]
  },
  {
   "cell_type": "code",
   "execution_count": 738,
   "metadata": {
    "collapsed": true
   },
   "outputs": [],
   "source": [
    "L = np.zeros((10, 10))\n",
    "L[np.tril_indices(10, 0)] = res.x[10:]"
   ]
  },
  {
   "cell_type": "code",
   "execution_count": 739,
   "metadata": {
    "collapsed": true
   },
   "outputs": [],
   "source": [
    "cov_q_u_post=L.dot(L.T)"
   ]
  },
  {
   "cell_type": "code",
   "execution_count": 740,
   "metadata": {
    "collapsed": true
   },
   "outputs": [],
   "source": [
    "def distribution_f_posterior(x_f,xi,theta0,theta1,cov_p_u,mean_q_u_post,cov_q_u_post):\n",
    "    N=len(xi) # N is number of inducing points\n",
    "    M=len(x_f) # M is number of predicting points\n",
    "    \n",
    "    cov_p_u_inv=np.linalg.inv(cov_p_u)\n",
    "    \n",
    "    K_xz=np.zeros((M,N))\n",
    "    for i in range(M):\n",
    "        for j in range(N):\n",
    "            K_xz[i][j]=expo_quad_kernel(theta0,theta1,x_f[i],xi[j])\n",
    "    K_xx=np.zeros((M,M))\n",
    "    for i in range(M):\n",
    "        for j in range(i,M):\n",
    "            K_xx[i][j]=expo_quad_kernel(theta0,theta1,x_f[i],x_f[j])\n",
    "            K_xx[j][i]=K_xx[i][j]\n",
    "    mean_f=(K_xz.dot(cov_p_u_inv)).dot(mean_q_u_post)\n",
    "    cov_f=K_xx-(K_xz.dot(cov_p_u_inv)).dot(K_xz.T)+(((K_xz.dot(cov_p_u_inv)).dot(cov_q_u_post)).dot(cov_p_u_inv)).dot(K_xz.T)\n",
    "    \n",
    "    exp_lamda=mean_f**2+np.diagonal(cov_f)\n",
    "    return mean_f,cov_f, exp_lamda"
   ]
  },
  {
   "cell_type": "code",
   "execution_count": 741,
   "metadata": {
    "collapsed": true
   },
   "outputs": [],
   "source": [
    "_,_,lamda_predict=distribution_f_posterior(f[0],xi,theta0,theta1,cov_p_u,mean_q_u_post,cov_q_u_post)"
   ]
  },
  {
   "cell_type": "code",
   "execution_count": null,
   "metadata": {
    "collapsed": true
   },
   "outputs": [],
   "source": []
  }
 ],
 "metadata": {
  "kernelspec": {
   "display_name": "Python 3",
   "language": "python",
   "name": "python3"
  },
  "language_info": {
   "codemirror_mode": {
    "name": "ipython",
    "version": 3
   },
   "file_extension": ".py",
   "mimetype": "text/x-python",
   "name": "python",
   "nbconvert_exporter": "python",
   "pygments_lexer": "ipython3",
   "version": "3.6.7"
  }
 },
 "nbformat": 4,
 "nbformat_minor": 2
}
